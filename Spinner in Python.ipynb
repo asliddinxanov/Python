{
 "cells": [
  {
   "cell_type": "code",
   "execution_count": 1,
   "id": "8683cdd8",
   "metadata": {},
   "outputs": [],
   "source": [
    "from turtle import *"
   ]
  },
  {
   "cell_type": "code",
   "execution_count": 2,
   "id": "283f53d7",
   "metadata": {},
   "outputs": [],
   "source": [
    "states = {'run': 0}\n",
    "def spin():\n",
    "    clear()\n",
    "    angle = states['run']/10\n",
    "    \n",
    "    right(angle)\n",
    "    forward(100)\n",
    "    dot(120,'brown')\n",
    "    back(100)\n",
    "    \n",
    "    right(120)\n",
    "    forward(100)\n",
    "    dot(120,'pink')\n",
    "    back(100)\n",
    "    \n",
    "    right(120)\n",
    "    forward(100)\n",
    "    dot(120,'violet')\n",
    "    back(100)\n",
    "    \n",
    "    right(120)\n",
    "    update()\n",
    "\n",
    "def anim():\n",
    "    if states['run'] > 0:\n",
    "        states['run'] -= 1\n",
    "    spin()\n",
    "    ontimer(anim,20)\n",
    "\n",
    "def klick():\n",
    "    states['run'] += 10\n",
    "\n",
    "setup(420, 420, 370, 0)\n",
    "hideturtle()\n",
    "tracer(False)\n",
    "width(20)\n",
    "onkey(klick,'space')\n",
    "listen()\n",
    "anim()\n",
    "done()"
   ]
  },
  {
   "cell_type": "code",
   "execution_count": null,
   "id": "0d2f207d",
   "metadata": {},
   "outputs": [],
   "source": []
  }
 ],
 "metadata": {
  "kernelspec": {
   "display_name": "Python 3 (ipykernel)",
   "language": "python",
   "name": "python3"
  },
  "language_info": {
   "codemirror_mode": {
    "name": "ipython",
    "version": 3
   },
   "file_extension": ".py",
   "mimetype": "text/x-python",
   "name": "python",
   "nbconvert_exporter": "python",
   "pygments_lexer": "ipython3",
   "version": "3.9.7"
  }
 },
 "nbformat": 4,
 "nbformat_minor": 5
}
