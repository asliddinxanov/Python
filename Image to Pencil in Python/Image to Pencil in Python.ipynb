{
 "cells": [
  {
   "cell_type": "code",
   "execution_count": 2,
   "id": "b871ab1e",
   "metadata": {},
   "outputs": [
    {
     "name": "stdout",
     "output_type": "stream",
     "text": [
      "Requirement already satisfied: opencv-python in /Users/user/opt/anaconda3/lib/python3.9/site-packages (4.6.0.66)\n",
      "Requirement already satisfied: numpy>=1.14.5 in /Users/user/opt/anaconda3/lib/python3.9/site-packages (from opencv-python) (1.21.6)\n",
      "Note: you may need to restart the kernel to use updated packages.\n"
     ]
    }
   ],
   "source": [
    "pip install opencv-python"
   ]
  },
  {
   "cell_type": "code",
   "execution_count": 13,
   "id": "fb97943f",
   "metadata": {},
   "outputs": [],
   "source": [
    "import cv2"
   ]
  },
  {
   "cell_type": "code",
   "execution_count": 14,
   "id": "ab9db035",
   "metadata": {},
   "outputs": [],
   "source": [
    "#specify the path to image (Loading iamge)\n",
    "image1 = cv2.imread('car-image.png')\n",
    "window_name = 'Original Image'"
   ]
  },
  {
   "cell_type": "code",
   "execution_count": 15,
   "id": "a404da53",
   "metadata": {},
   "outputs": [],
   "source": [
    "#Displaying the Original Image\n",
    "cv2.imshow(window_name,image1)"
   ]
  },
  {
   "cell_type": "code",
   "execution_count": 16,
   "id": "99105562",
   "metadata": {},
   "outputs": [],
   "source": [
    "#Convert the image from one color space to another\n",
    "grey_img = cv2.cvtColor(image1, cv2.COLOR_BGR2GRAY)\n",
    "invert = cv2.bitwise_not(grey_img)"
   ]
  },
  {
   "cell_type": "code",
   "execution_count": 17,
   "id": "6e41e0d5",
   "metadata": {},
   "outputs": [],
   "source": [
    "#image smoothing\n",
    "blur = cv2.GaussianBlur(invert,(21,21),0)\n",
    "invertedblur = cv2.bitwise_not(blur)\n",
    "sketch = cv2.divide(grey_img, invertedblur, scale = 256.0)"
   ]
  },
  {
   "cell_type": "code",
   "execution_count": 18,
   "id": "6e087560",
   "metadata": {},
   "outputs": [
    {
     "data": {
      "text/plain": [
       "True"
      ]
     },
     "execution_count": 18,
     "metadata": {},
     "output_type": "execute_result"
    }
   ],
   "source": [
    "#save the converted image to specified path\n",
    "cv2.imwrite('sketch.png',sketch)"
   ]
  },
  {
   "cell_type": "code",
   "execution_count": 19,
   "id": "bc5636b6",
   "metadata": {},
   "outputs": [],
   "source": [
    "#Reading an image in default is displayed\n",
    "image = cv2.imread('Sketch.png')"
   ]
  },
  {
   "cell_type": "code",
   "execution_count": 20,
   "id": "798f7919",
   "metadata": {},
   "outputs": [],
   "source": [
    "#Window name in which image is displayed\n",
    "window_name = 'Sketch Image'"
   ]
  },
  {
   "cell_type": "code",
   "execution_count": 21,
   "id": "a4f336ae",
   "metadata": {},
   "outputs": [],
   "source": [
    "#Displaying the sketch image\n",
    "cv2.imshow(window_name, image)"
   ]
  },
  {
   "cell_type": "code",
   "execution_count": null,
   "id": "2a89392d",
   "metadata": {},
   "outputs": [],
   "source": [
    "#waits for user to press any key\n",
    "cv2.waitKey(0)"
   ]
  },
  {
   "cell_type": "code",
   "execution_count": null,
   "id": "cca549d6",
   "metadata": {},
   "outputs": [],
   "source": [
    "#Closing all open windows\n",
    "cv2.destroyAllWindows()"
   ]
  }
 ],
 "metadata": {
  "kernelspec": {
   "display_name": "Python 3 (ipykernel)",
   "language": "python",
   "name": "python3"
  },
  "language_info": {
   "codemirror_mode": {
    "name": "ipython",
    "version": 3
   },
   "file_extension": ".py",
   "mimetype": "text/x-python",
   "name": "python",
   "nbconvert_exporter": "python",
   "pygments_lexer": "ipython3",
   "version": "3.9.7"
  }
 },
 "nbformat": 4,
 "nbformat_minor": 5
}
